{
 "cells": [
  {
   "cell_type": "markdown",
   "id": "977de266",
   "metadata": {},
   "source": [
    "# Crypto Data Cleaning"
   ]
  },
  {
   "cell_type": "markdown",
   "id": "0cfa4a2d",
   "metadata": {},
   "source": [
    "First lets import all the packages that we might need during the cleaning process"
   ]
  },
  {
   "cell_type": "code",
   "execution_count": 1,
   "id": "c2b9e611",
   "metadata": {},
   "outputs": [],
   "source": [
    "import pandas as pd\n",
    "import seaborn as sns\n",
    "import numpy as np\n",
    "from matplotlib import pyplot as plt"
   ]
  },
  {
   "cell_type": "markdown",
   "id": "c0b16f15",
   "metadata": {},
   "source": [
    "Now we need to import the dataset, its in JSON format so we'll use pandas read_json to translate it"
   ]
  },
  {
   "cell_type": "code",
   "execution_count": 2,
   "id": "dd06abe9",
   "metadata": {},
   "outputs": [],
   "source": [
    "data = pd.read_json('may_18_2022.json')"
   ]
  },
  {
   "cell_type": "markdown",
   "id": "a75d017f",
   "metadata": {},
   "source": [
    "Lets have a quick look at the data using head, columns, describe and info modules of pandas"
   ]
  },
  {
   "cell_type": "code",
   "execution_count": 3,
   "id": "74d21bea",
   "metadata": {},
   "outputs": [
    {
     "name": "stdout",
     "output_type": "stream",
     "text": [
      "                                  Date       Name Symbol    Price  \\\n",
      "0  Historical Snapshot - 28 April 2013    Bitcoin    BTC  $134.21   \n",
      "1  Historical Snapshot - 28 April 2013   Litecoin    LTC    $4.35   \n",
      "2  Historical Snapshot - 28 April 2013   Peercoin    PPC  $0.3865   \n",
      "3  Historical Snapshot - 28 April 2013   Namecoin    NMC    $1.11   \n",
      "4  Historical Snapshot - 28 April 2013  Terracoin    TRC  $0.6469   \n",
      "\n",
      "          Market Cap Circulating Supply  \n",
      "0  $1,488,566,971.96         11,091,325  \n",
      "1     $74,637,021.57         17,164,230  \n",
      "2      $7,250,186.65         18,757,362  \n",
      "3      $5,995,997.19          5,415,300  \n",
      "4      $1,503,099.40          2,323,570  \n"
     ]
    }
   ],
   "source": [
    "print(data.head())"
   ]
  },
  {
   "cell_type": "code",
   "execution_count": 4,
   "id": "5d48f72d",
   "metadata": {},
   "outputs": [
    {
     "name": "stdout",
     "output_type": "stream",
     "text": [
      "Index(['Date', 'Name', 'Symbol', 'Price', 'Market Cap', 'Circulating Supply'], dtype='object')\n"
     ]
    }
   ],
   "source": [
    "print(data.columns)"
   ]
  },
  {
   "cell_type": "code",
   "execution_count": 5,
   "id": "5720432a",
   "metadata": {},
   "outputs": [
    {
     "name": "stdout",
     "output_type": "stream",
     "text": [
      "                                          Date     Name Symbol  Price  \\\n",
      "count                                     9414     9414   9414   9414   \n",
      "unique                                     473      192    188   7148   \n",
      "top     Historical Snapshot - 25 February 2018  Bitcoin    BTC  $1.00   \n",
      "freq                                        20      473    473    262   \n",
      "\n",
      "               Market Cap Circulating Supply  \n",
      "count                9414               9414  \n",
      "unique               9414               6350  \n",
      "top     $1,488,566,971.96      8,999,999,999  \n",
      "freq                    1                185  \n"
     ]
    }
   ],
   "source": [
    "print(data.describe())"
   ]
  },
  {
   "cell_type": "code",
   "execution_count": 6,
   "id": "630cc2d2",
   "metadata": {},
   "outputs": [
    {
     "name": "stdout",
     "output_type": "stream",
     "text": [
      "<class 'pandas.core.frame.DataFrame'>\n",
      "RangeIndex: 9414 entries, 0 to 9413\n",
      "Data columns (total 6 columns):\n",
      " #   Column              Non-Null Count  Dtype \n",
      "---  ------              --------------  ----- \n",
      " 0   Date                9414 non-null   object\n",
      " 1   Name                9414 non-null   object\n",
      " 2   Symbol              9414 non-null   object\n",
      " 3   Price               9414 non-null   object\n",
      " 4   Market Cap          9414 non-null   object\n",
      " 5   Circulating Supply  9414 non-null   object\n",
      "dtypes: object(6)\n",
      "memory usage: 441.4+ KB\n",
      "None\n"
     ]
    }
   ],
   "source": [
    "print(data.info())"
   ]
  },
  {
   "cell_type": "markdown",
   "id": "29736010",
   "metadata": {},
   "source": [
    "In order to clean the date section, we need to get rid of the 'historical snapshot' text, we can then convert it to the datetime type, this way pandas will know that it is a date in this column, making it easier to sort in order of the dates"
   ]
  },
  {
   "cell_type": "code",
   "execution_count": 7,
   "id": "c1f233ec",
   "metadata": {},
   "outputs": [
    {
     "name": "stdout",
     "output_type": "stream",
     "text": [
      "          Date             Name Symbol       Price           Market Cap  \\\n",
      "0   2013-04-28          Bitcoin    BTC     $134.21    $1,488,566,971.96   \n",
      "1   2013-04-28         Litecoin    LTC       $4.35       $74,637,021.57   \n",
      "2   2013-04-28         Peercoin    PPC     $0.3865        $7,250,186.65   \n",
      "3   2013-04-28         Namecoin    NMC       $1.11        $5,995,997.19   \n",
      "4   2013-04-28        Terracoin    TRC     $0.6469        $1,503,099.40   \n",
      "..         ...              ...    ...         ...                  ...   \n",
      "312 2022-05-15         Polkadot    DOT      $11.80   $11,649,063,178.34   \n",
      "313 2022-05-15        Avalanche   AVAX      $36.54    $9,833,667,775.33   \n",
      "314 2022-05-15  Wrapped Bitcoin   WBTC  $31,259.19    $8,896,487,183.86   \n",
      "303 2022-05-15         Ethereum    ETH   $2,145.71  $259,186,464,086.69   \n",
      "310 2022-05-15      Binance USD   BUSD       $1.00   $17,743,577,941.18   \n",
      "\n",
      "    Circulating Supply  \n",
      "0           11,091,325  \n",
      "1           17,164,230  \n",
      "2           18,757,362  \n",
      "3            5,415,300  \n",
      "4            2,323,570  \n",
      "..                 ...  \n",
      "312        987,579,315  \n",
      "313        269,103,442  \n",
      "314            284,604  \n",
      "303        120,793,055  \n",
      "310     17,735,417,590  \n",
      "\n",
      "[9414 rows x 6 columns]\n"
     ]
    }
   ],
   "source": [
    "data.Date = data.Date.str[22:]\n",
    "data['Date'] = pd.to_datetime(data['Date'])\n",
    "print(data.sort_values(by='Date', ascending=True))"
   ]
  },
  {
   "cell_type": "code",
   "execution_count": 8,
   "id": "06fae2bf",
   "metadata": {},
   "outputs": [
    {
     "name": "stdout",
     "output_type": "stream",
     "text": [
      "          Date           Name Symbol       Price          Market Cap  \\\n",
      "312 2022-05-15       Polkadot    DOT      $11.80  $11,649,063,178.34   \n",
      "304 2022-05-15         Tether   USDT     $0.9991  $75,681,576,735.59   \n",
      "330 2022-05-15  NEAR Protocol   NEAR       $7.37   $5,073,560,049.77   \n",
      "329 2022-05-15         Cronos    CRO     $0.2035   $5,140,445,398.06   \n",
      "328 2022-05-15        Polygon  MATIC     $0.7376   $5,862,815,861.39   \n",
      "..         ...            ...    ...         ...                 ...   \n",
      "5   2013-04-28        Devcoin    DVC  $0.0003261       $1,424,087.30   \n",
      "4   2013-04-28      Terracoin    TRC     $0.6469       $1,503,099.40   \n",
      "3   2013-04-28       Namecoin    NMC       $1.11       $5,995,997.19   \n",
      "2   2013-04-28       Peercoin    PPC     $0.3865       $7,250,186.65   \n",
      "0   2013-04-28        Bitcoin    BTC     $134.21   $1,488,566,971.96   \n",
      "\n",
      "    Circulating Supply  \n",
      "312        987,579,315  \n",
      "304     75,752,120,651  \n",
      "330        688,659,904  \n",
      "329     25,263,013,692  \n",
      "328      7,948,866,567  \n",
      "..                 ...  \n",
      "5        4,366,620,160  \n",
      "4            2,323,570  \n",
      "3            5,415,300  \n",
      "2           18,757,362  \n",
      "0           11,091,325  \n",
      "\n",
      "[9414 rows x 6 columns]\n"
     ]
    }
   ],
   "source": [
    "data['Date'] = pd.to_datetime(data['Date'])\n",
    "print(data.sort_values(by='Date', ascending=False))"
   ]
  },
  {
   "cell_type": "markdown",
   "id": "eef3d81f",
   "metadata": {},
   "source": [
    "Now we'll osrt the price column, as this column is coming up as a string instead of a float, first we have to get rid of the dollar sign from the values, we will also have to remove the commas from the number"
   ]
  },
  {
   "cell_type": "code",
   "execution_count": 9,
   "id": "1c7d3508",
   "metadata": {},
   "outputs": [
    {
     "name": "stdout",
     "output_type": "stream",
     "text": [
      "        Date       Name Symbol     Price         Market Cap Circulating Supply\n",
      "0 2013-04-28    Bitcoin    BTC  134.2100  $1,488,566,971.96         11,091,325\n",
      "1 2013-04-28   Litecoin    LTC    4.3500     $74,637,021.57         17,164,230\n",
      "2 2013-04-28   Peercoin    PPC    0.3865      $7,250,186.65         18,757,362\n",
      "3 2013-04-28   Namecoin    NMC    1.1100      $5,995,997.19          5,415,300\n",
      "4 2013-04-28  Terracoin    TRC    0.6469      $1,503,099.40          2,323,570\n"
     ]
    }
   ],
   "source": [
    "\n",
    "data['Price'] = data.Price.str[1:]\n",
    "data['Price'] = data.Price.str.replace(',', '')\n",
    "data['Price'] = data['Price'].astype('float')\n",
    "print(data.head())\n"
   ]
  },
  {
   "cell_type": "markdown",
   "id": "033baa59",
   "metadata": {},
   "source": [
    "We'll have to now do the same with the market cap data"
   ]
  },
  {
   "cell_type": "code",
   "execution_count": 10,
   "id": "fa9ac6f6",
   "metadata": {},
   "outputs": [],
   "source": [
    "data['Market Cap'] = data['Market Cap'].str[1:]\n",
    "data['Market Cap'] = data['Market Cap'].str.replace(',', '')\n",
    "data['Market Cap'] = data['Market Cap'].astype('float')\n",
    "data['Formatted date'] = data['Date'].dt.strftime('%Y-%m-%d')"
   ]
  },
  {
   "cell_type": "markdown",
   "id": "d15c4357",
   "metadata": {},
   "source": [
    "We also need to remove the commas from the circulating supply number and change it to type int"
   ]
  },
  {
   "cell_type": "code",
   "execution_count": 11,
   "id": "d6be30ab",
   "metadata": {},
   "outputs": [],
   "source": [
    "data['Circulating Supply'] = data['Circulating Supply'].str.replace(',', '')\n",
    "data['Circulating Supply'] = data['Circulating Supply'].astype('int')"
   ]
  },
  {
   "cell_type": "markdown",
   "id": "d5563c08",
   "metadata": {},
   "source": [
    "Now lets have another look at the date, and have a quick check to see if the column values are correct"
   ]
  },
  {
   "cell_type": "code",
   "execution_count": 12,
   "id": "1df99aed",
   "metadata": {},
   "outputs": [
    {
     "name": "stdout",
     "output_type": "stream",
     "text": [
      "        Date       Name Symbol     Price    Market Cap  Circulating Supply  \\\n",
      "0 2013-04-28    Bitcoin    BTC  134.2100  1.488567e+09            11091325   \n",
      "1 2013-04-28   Litecoin    LTC    4.3500  7.463702e+07            17164230   \n",
      "2 2013-04-28   Peercoin    PPC    0.3865  7.250187e+06            18757362   \n",
      "3 2013-04-28   Namecoin    NMC    1.1100  5.995997e+06             5415300   \n",
      "4 2013-04-28  Terracoin    TRC    0.6469  1.503099e+06             2323570   \n",
      "\n",
      "  Formatted date  \n",
      "0     2013-04-28  \n",
      "1     2013-04-28  \n",
      "2     2013-04-28  \n",
      "3     2013-04-28  \n",
      "4     2013-04-28  \n"
     ]
    }
   ],
   "source": [
    "print(data.head())"
   ]
  },
  {
   "cell_type": "markdown",
   "id": "d0cf0511",
   "metadata": {},
   "source": [
    "Now we will rename some of the columns to make them more workable and explanatory"
   ]
  },
  {
   "cell_type": "code",
   "execution_count": 13,
   "id": "24c1eed2",
   "metadata": {},
   "outputs": [
    {
     "name": "stdout",
     "output_type": "stream",
     "text": [
      "        Date       Name Symbol  Price($)  Market Cap ($)  Circulating Supply  \\\n",
      "0 2013-04-28    Bitcoin    BTC  134.2100    1.488567e+09            11091325   \n",
      "1 2013-04-28   Litecoin    LTC    4.3500    7.463702e+07            17164230   \n",
      "2 2013-04-28   Peercoin    PPC    0.3865    7.250187e+06            18757362   \n",
      "3 2013-04-28   Namecoin    NMC    1.1100    5.995997e+06             5415300   \n",
      "4 2013-04-28  Terracoin    TRC    0.6469    1.503099e+06             2323570   \n",
      "\n",
      "  Formatted date  \n",
      "0     2013-04-28  \n",
      "1     2013-04-28  \n",
      "2     2013-04-28  \n",
      "3     2013-04-28  \n",
      "4     2013-04-28  \n"
     ]
    }
   ],
   "source": [
    "data.rename(columns = {'Price': 'Price($)', 'Market Cap': 'Market Cap ($)'}, inplace=True)\n",
    "print(data.head())"
   ]
  },
  {
   "cell_type": "markdown",
   "id": "47fc5d25",
   "metadata": {},
   "source": [
    "Now we want to make sure we're putting the right columns in the new dataset, we also ant to get rid of the unformatted date section"
   ]
  },
  {
   "cell_type": "code",
   "execution_count": 14,
   "id": "11d1e494",
   "metadata": {},
   "outputs": [
    {
     "name": "stdout",
     "output_type": "stream",
     "text": [
      "<class 'pandas.core.frame.DataFrame'>\n",
      "RangeIndex: 9414 entries, 0 to 9413\n",
      "Data columns (total 6 columns):\n",
      " #   Column              Non-Null Count  Dtype  \n",
      "---  ------              --------------  -----  \n",
      " 0   Formatted date      9414 non-null   object \n",
      " 1   Name                9414 non-null   object \n",
      " 2   Symbol              9414 non-null   object \n",
      " 3   Price($)            9414 non-null   float64\n",
      " 4   Market Cap ($)      9414 non-null   float64\n",
      " 5   Circulating Supply  9414 non-null   int64  \n",
      "dtypes: float64(2), int64(1), object(3)\n",
      "memory usage: 441.4+ KB\n",
      "None\n",
      "  Formatted date       Name Symbol  Price($)  Market Cap ($)  \\\n",
      "0     2013-04-28    Bitcoin    BTC  134.2100    1.488567e+09   \n",
      "1     2013-04-28   Litecoin    LTC    4.3500    7.463702e+07   \n",
      "2     2013-04-28   Peercoin    PPC    0.3865    7.250187e+06   \n",
      "3     2013-04-28   Namecoin    NMC    1.1100    5.995997e+06   \n",
      "4     2013-04-28  Terracoin    TRC    0.6469    1.503099e+06   \n",
      "\n",
      "   Circulating Supply  \n",
      "0            11091325  \n",
      "1            17164230  \n",
      "2            18757362  \n",
      "3             5415300  \n",
      "4             2323570  \n"
     ]
    }
   ],
   "source": [
    "data= data[['Formatted date', 'Name', 'Symbol', 'Price($)', 'Market Cap ($)', 'Circulating Supply']]\n",
    "print(data.info())\n",
    "print(data.head())"
   ]
  },
  {
   "cell_type": "markdown",
   "id": "ee3fad82",
   "metadata": {},
   "source": [
    "Now we want to convert the formatted date into the datetime type, this will make the column much easier to work with"
   ]
  },
  {
   "cell_type": "code",
   "execution_count": 15,
   "id": "2a5b44ae",
   "metadata": {},
   "outputs": [],
   "source": [
    "data['Formatted date'] = pd.to_datetime(data['Formatted date'], format=('%Y-%m-%d'))"
   ]
  },
  {
   "cell_type": "markdown",
   "id": "b410ea51",
   "metadata": {},
   "source": [
    "Here we use head() to have a quick look at our updated data set and see if all the columns and values look correct, we will also use the info module to check that all our new datatypes are correct for each column,"
   ]
  },
  {
   "cell_type": "code",
   "execution_count": 16,
   "id": "34ac1f72",
   "metadata": {},
   "outputs": [
    {
     "name": "stdout",
     "output_type": "stream",
     "text": [
      "  Formatted date       Name Symbol  Price($)  Market Cap ($)  \\\n",
      "0     2013-04-28    Bitcoin    BTC  134.2100    1.488567e+09   \n",
      "1     2013-04-28   Litecoin    LTC    4.3500    7.463702e+07   \n",
      "2     2013-04-28   Peercoin    PPC    0.3865    7.250187e+06   \n",
      "3     2013-04-28   Namecoin    NMC    1.1100    5.995997e+06   \n",
      "4     2013-04-28  Terracoin    TRC    0.6469    1.503099e+06   \n",
      "\n",
      "   Circulating Supply  \n",
      "0            11091325  \n",
      "1            17164230  \n",
      "2            18757362  \n",
      "3             5415300  \n",
      "4             2323570  \n",
      "<class 'pandas.core.frame.DataFrame'>\n",
      "RangeIndex: 9414 entries, 0 to 9413\n",
      "Data columns (total 6 columns):\n",
      " #   Column              Non-Null Count  Dtype         \n",
      "---  ------              --------------  -----         \n",
      " 0   Formatted date      9414 non-null   datetime64[ns]\n",
      " 1   Name                9414 non-null   object        \n",
      " 2   Symbol              9414 non-null   object        \n",
      " 3   Price($)            9414 non-null   float64       \n",
      " 4   Market Cap ($)      9414 non-null   float64       \n",
      " 5   Circulating Supply  9414 non-null   int64         \n",
      "dtypes: datetime64[ns](1), float64(2), int64(1), object(2)\n",
      "memory usage: 441.4+ KB\n",
      "None\n"
     ]
    }
   ],
   "source": [
    "print(data.head())\n",
    "print(data.info())"
   ]
  },
  {
   "cell_type": "markdown",
   "id": "0dc0b952",
   "metadata": {},
   "source": [
    "Now we want to create a list of individual coins where we have over a years worth of data on, this could be used for further analysis, we're going to save htese datasets in a seperate folder"
   ]
  },
  {
   "cell_type": "code",
   "execution_count": 17,
   "id": "058e8058",
   "metadata": {},
   "outputs": [],
   "source": [
    "coins = data['Name'].unique()"
   ]
  },
  {
   "cell_type": "code",
   "execution_count": 18,
   "id": "ca411433",
   "metadata": {},
   "outputs": [],
   "source": [
    "for x in coins:\n",
    "    single_coin = data[data['Name'] == x]\n",
    "    if len(single_coin) >= 52:\n",
    "        single_coin.to_csv(f'coins/{x}.csv', index = False)\n",
    "    else:\n",
    "        pass"
   ]
  },
  {
   "cell_type": "markdown",
   "id": "993d0167",
   "metadata": {},
   "source": [
    "Now we want to remove the coins from our data set that dont have a years worth of values"
   ]
  },
  {
   "cell_type": "code",
   "execution_count": 19,
   "id": "bfad745e",
   "metadata": {},
   "outputs": [
    {
     "name": "stdout",
     "output_type": "stream",
     "text": [
      "['Bitcoin' 'Litecoin' 'Peercoin' 'Namecoin' 'Novacoin' 'Nxt' 'Dash' 'XRP'\n",
      " 'Dogecoin' 'Bytecoin' 'BlackCoin' 'Monero' 'MaidSafeCoin' 'Counterparty'\n",
      " 'Feathercoin' 'Ethereum' 'Tether' 'USD Coin' 'Cardano' 'Solana'\n",
      " 'Binance USD' 'Polkadot' 'Wrapped Bitcoin' 'TRON' 'Crypto.com Coin'\n",
      " 'Chainlink' 'Binance Coin' 'Uniswap' 'Bitcoin Cash' 'Ethereum Classic'\n",
      " 'Stellar' 'EOS' 'NEM' 'Bitcoin SV' 'Tezos' 'UNUS SED LEO' 'Neo' 'IOTA'\n",
      " 'Zcash' 'Waves' 'Lisk' 'Steem' 'BitShares' 'Factom' 'YbCoin']\n",
      "<class 'pandas.core.frame.DataFrame'>\n",
      "Int64Index: 7354 entries, 0 to 9401\n",
      "Data columns (total 6 columns):\n",
      " #   Column              Non-Null Count  Dtype         \n",
      "---  ------              --------------  -----         \n",
      " 0   Formatted date      7354 non-null   datetime64[ns]\n",
      " 1   Name                7354 non-null   object        \n",
      " 2   Symbol              7354 non-null   object        \n",
      " 3   Price($)            7354 non-null   float64       \n",
      " 4   Market Cap ($)      7354 non-null   float64       \n",
      " 5   Circulating Supply  7354 non-null   int64         \n",
      "dtypes: datetime64[ns](1), float64(2), int64(1), object(2)\n",
      "memory usage: 402.2+ KB\n",
      "None\n"
     ]
    }
   ],
   "source": [
    "for x in coins:\n",
    "    coin_data_length = data[data['Name'] == x]\n",
    "    if len(coin_data_length) < 52:\n",
    "        data.drop(coin_data_length.index, inplace = True)\n",
    "    \n",
    "print(data['Name'].unique())\n",
    "print(data.info())"
   ]
  },
  {
   "cell_type": "markdown",
   "id": "fd320660",
   "metadata": {},
   "source": [
    "Now we've got rid got rid of the coins without enough information we can begin analysis, we'll start by sorting the data into order, starting with the coin and then the date"
   ]
  },
  {
   "cell_type": "code",
   "execution_count": 20,
   "id": "58a94dc0",
   "metadata": {},
   "outputs": [],
   "source": [
    "data.sort_values(by=['Name', 'Formatted date'], ascending = [True, True], inplace = True, ignore_index = True)"
   ]
  },
  {
   "cell_type": "markdown",
   "id": "574d2e4b",
   "metadata": {},
   "source": [
    "Our data is now clean and ready for analysis"
   ]
  },
  {
   "cell_type": "code",
   "execution_count": 21,
   "id": "5cf2b46e",
   "metadata": {},
   "outputs": [],
   "source": [
    "data.to_csv('cleaned_crypto_data.csv', index=True)"
   ]
  },
  {
   "cell_type": "code",
   "execution_count": null,
   "id": "be3e616f",
   "metadata": {},
   "outputs": [],
   "source": []
  },
  {
   "cell_type": "code",
   "execution_count": null,
   "id": "49745e36",
   "metadata": {},
   "outputs": [],
   "source": []
  }
 ],
 "metadata": {
  "kernelspec": {
   "display_name": "Python 3 (ipykernel)",
   "language": "python",
   "name": "python3"
  },
  "language_info": {
   "codemirror_mode": {
    "name": "ipython",
    "version": 3
   },
   "file_extension": ".py",
   "mimetype": "text/x-python",
   "name": "python",
   "nbconvert_exporter": "python",
   "pygments_lexer": "ipython3",
   "version": "3.8.11"
  }
 },
 "nbformat": 4,
 "nbformat_minor": 5
}
